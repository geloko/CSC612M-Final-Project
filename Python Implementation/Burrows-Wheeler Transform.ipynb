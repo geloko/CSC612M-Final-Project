{
 "cells": [
  {
   "cell_type": "markdown",
   "metadata": {},
   "source": [
    "# Burrows-Wheeler Transform\n",
    "\n",
    "**Section:** G03\n",
    "\n",
    "**Submitted by:**\n",
    "- Aquino, Kurt Neil\n",
    "- Matias, Angelo Christian\n",
    "\n",
    "**Proposal:** Comparison of the Implementations of the Burrows-Wheeler Transform Algorithm Between Python and PyOpenCL\n",
    "\n",
    "Burrows–Wheeler Transform is an algorithm used to prepare data for use with data compression techniques invented by Michael Burrows and David Wheeler in 1994. It is done by sorting all rotations of an input text into alphabetical/lexicographical order and taking the last column of the sorted rotations as the output.\n",
    "\n",
    "This notebook demonstrates a simple implementation of the BWT algorithm in python.\n",
    "\n",
    "First, we initialize the necessary python libraries to be used, as well as the input string:"
   ]
  },
  {
   "cell_type": "code",
   "execution_count": 1,
   "metadata": {},
   "outputs": [
    {
     "name": "stdout",
     "output_type": "stream",
     "text": [
      "banana$\n"
     ]
    }
   ],
   "source": [
    "from datetime import datetime\n",
    "from datetime import timedelta\n",
    "\n",
    "file = open(\"test.txt\", \"r\") \n",
    "input = \"\".join(file.read().splitlines()) + \"$\"\n",
    "\n",
    "print(input)"
   ]
  },
  {
   "cell_type": "markdown",
   "metadata": {},
   "source": [
    "We then perform the actual Burrows-Wheeler Algorithm to prepare the input string for data compression"
   ]
  },
  {
   "cell_type": "code",
   "execution_count": 2,
   "metadata": {
    "scrolled": true
   },
   "outputs": [
    {
     "name": "stdout",
     "output_type": "stream",
     "text": [
      "Started BWT at: 2017-12-11 16:57:10.549590\n",
      "Finished BWT at: 2017-12-11 16:57:10.565216\n",
      "BWT runtime in seconds: 0 . 15626\n",
      "\n",
      "BWT: annb$aa\n"
     ]
    }
   ],
   "source": [
    "start_time = datetime.now()\n",
    "print(\"Started BWT at:\", start_time)\n",
    "\n",
    "# Step 1 & 2 - List and sort all of the rotations of the input string in aphabetical/lexicographical order\n",
    "rotations = sorted(range(len(input)), key=lambda i: input[i:]) \n",
    "    \n",
    "# Step 3 - Get the last characters of the sorted rotations\n",
    "bwt = [input[i - 1] if(i > 0) else input[len(input) - 1] for i in rotations]\n",
    "\n",
    "end_time = datetime.now()\n",
    "print(\"Finished BWT at:\", end_time)\n",
    "\n",
    "runtime = end_time - start_time\n",
    "print(\"BWT runtime in seconds:\", runtime.seconds, \".\", runtime.microseconds)\n",
    "\n",
    "print(\"\\nBWT:\", \"\".join(bwt))"
   ]
  },
  {
   "cell_type": "markdown",
   "metadata": {},
   "source": [
    "# FM-Index using BWT\n",
    "\n",
    "An algorithm which utilizes the BWT in order to create a compressed full-text substring index is the Full-text index in Minute space, or FM-Index for short. This compression/search algorithm, invented by by Paolo Ferragina and Giovanni Manzini, is used to efficiently find the number of occurrences of a pattern within the compressed text, as well as locate the position of each occurrence.\n",
    "\n",
    "In order to determine the counts/locations of a substring by using the FM-Index algorithm, the following steps must be performed:\n",
    "1. Create an array with the BWT\n",
    "2. Sort the array lexicographically\n",
    "3. Append each of the characters of the original BWT to the left of the sorted array\n",
    "4. Repeat until the substrings being sorted has the same length with the pattern being searched"
   ]
  },
  {
   "cell_type": "code",
   "execution_count": 3,
   "metadata": {},
   "outputs": [
    {
     "name": "stdout",
     "output_type": "stream",
     "text": [
      "\n",
      "Pass # 1\n",
      "a$\n",
      "na\n",
      "na\n",
      "ba\n",
      "$b\n",
      "an\n",
      "an\n",
      "\n",
      "Pass # 2\n",
      "a$b\n",
      "na$\n",
      "nan\n",
      "ban\n",
      "$ba\n",
      "ana\n",
      "ana\n",
      "\n",
      "Number of substrings present: 2\n",
      "Index/Indices where the substring is present: [5, 6]\n"
     ]
    }
   ],
   "source": [
    "substring = 'ana'\n",
    "\n",
    "# Perform FM-Index compression\n",
    "fm_index = sorted(bwt)\n",
    "for i in range(1, len(substring)):\n",
    "    print(\"\\nPass #\", i)\n",
    "    fm_index = sorted(fm_index)\n",
    "    fm_index = [x + y for x, y in zip(bwt, fm_index)]\n",
    "    \n",
    "    for j in range(len(bwt)):\n",
    "        print(fm_index[j])\n",
    "        \n",
    "# FM-Index Count - get the number of occurences of the substring within the compressed text\n",
    "substring_count = fm_index.count(substring)\n",
    "print(\"\\nNumber of substrings present:\", substring_count)\n",
    "\n",
    "# FM-Index Locate - locate the position(s) of the substring within the compressed text\n",
    "substring_index = []\n",
    "if(substring_count > 0):\n",
    "    substring_index = [i for i, j in enumerate(fm_index) if j == substring]\n",
    "    print(\"Index/Indices where the substring is present:\", substring_index)"
   ]
  },
  {
   "cell_type": "code",
   "execution_count": null,
   "metadata": {
    "collapsed": true
   },
   "outputs": [],
   "source": []
  }
 ],
 "metadata": {
  "kernelspec": {
   "display_name": "Python 3",
   "language": "python",
   "name": "python3"
  },
  "language_info": {
   "codemirror_mode": {
    "name": "ipython",
    "version": 3
   },
   "file_extension": ".py",
   "mimetype": "text/x-python",
   "name": "python",
   "nbconvert_exporter": "python",
   "pygments_lexer": "ipython3",
   "version": "3.6.1"
  }
 },
 "nbformat": 4,
 "nbformat_minor": 2
}
