{
 "cells": [
  {
   "cell_type": "markdown",
   "metadata": {},
   "source": [
    "# Burrows-Wheeler Transform\n",
    "\n",
    "**Section:** G01\n",
    "\n",
    "**Submitted by:**\n",
    "- Aquino, Kurt Neil\n",
    "- Matias, Angelo Christian\n",
    "\n",
    "**Proposal:** Comparison of the Implementations of the Burrows-Wheeler Transform Algorithm Between Python and PyOpenCL\n",
    "\n",
    "Burrows–Wheeler Transform is an algorithm used to prepare data for use with data compression techniques invented by Michael Burrows and David Wheeler in 1994. It is done by sorting all rotations of an input text into alphabetical/lexicographical order and taking the last column of the sorted rotations as the output.\n",
    "\n",
    "This notebook demonstrates a simple implementation of the BWT algorithm in python:"
   ]
  },
  {
   "cell_type": "code",
   "execution_count": 1,
   "metadata": {},
   "outputs": [
    {
     "name": "stdout",
     "output_type": "stream",
     "text": [
      "banana$\n",
      "anana$b\n",
      "nana$ba\n",
      "ana$ban\n",
      "na$bana\n",
      "a$banan\n",
      "$banana\n",
      "\n",
      "$banana\n",
      "a$banan\n",
      "ana$ban\n",
      "anana$b\n",
      "banana$\n",
      "na$bana\n",
      "nana$ba\n",
      "\n",
      "BWT: annb$aa\n",
      "Runtime in milliseconds: 0.0\n"
     ]
    }
   ],
   "source": [
    "import numpy as np\n",
    "from datetime import datetime\n",
    "from datetime import timedelta\n",
    "\n",
    "input = 'banana$'\n",
    "rotations = []\n",
    "\n",
    "start_time = datetime.now()\n",
    "\n",
    "# Step 1 - List all possible rotations of the string\n",
    "for i in range(len(input)):\n",
    "    rotations.append(input[i:] + input[:i])\n",
    "\n",
    "# Step 2 - Sort the list of rotations in aphabetical/lexicographical order\n",
    "bwt = sorted(rotations)\n",
    "    \n",
    "# Step 3 - Get the last characters of the sorted rotations\n",
    "last_column = [row[-1:] for row in bwt]\n",
    "\n",
    "dt = datetime.now() - start_time\n",
    "millis = (dt.days * 24 * 60 * 60 + dt.seconds) * 1000 + dt.microseconds / 1000.0\n",
    "\n",
    "for i in range(len(input)):\n",
    "    print(rotations[i])   \n",
    "\n",
    "print('')\n",
    "\n",
    "for i in range(len(input)):\n",
    "    print(bwt[i])\n",
    "    \n",
    "print(\"\\nBWT:\", \"\".join(last_column))\n",
    "print(\"Runtime in milliseconds:\", millis)"
   ]
  },
  {
   "cell_type": "markdown",
   "metadata": {},
   "source": [
    "# FM-Index using BWT\n",
    "\n",
    "An algorithm which utilizes the BWT in order to create a compressed full-text substring index is the Full-text index in Minute space, or FM-Index for short. This compression/search algorithm, invented by by Paolo Ferragina and Giovanni Manzini, is used to efficiently find the number of occurrences of a pattern within the compressed text, as well as locate the position of each occurrence.\n",
    "\n",
    "In order to determine the counts/locations of a substring by using the FM-Index algorithm, the following steps must be performed:\n",
    "1. Create an array with the BWT\n",
    "2. Sort the array lexicographically\n",
    "3. Append each of the characters of the orignal BWT to the left of the sorted array\n",
    "4. Repeat until the substrings being sorted has the same length with the pattern being searched"
   ]
  },
  {
   "cell_type": "code",
   "execution_count": 2,
   "metadata": {},
   "outputs": [
    {
     "name": "stdout",
     "output_type": "stream",
     "text": [
      "\n",
      "Pass # 1\n",
      "a$\n",
      "na\n",
      "na\n",
      "ba\n",
      "$b\n",
      "an\n",
      "an\n",
      "\n",
      "Pass # 2\n",
      "a$b\n",
      "na$\n",
      "nan\n",
      "ban\n",
      "$ba\n",
      "ana\n",
      "ana\n",
      "\n",
      "Number of substrings present: 2\n",
      "Index/Indices where the substring is present: [5, 6]\n"
     ]
    }
   ],
   "source": [
    "substring = 'ana'\n",
    "\n",
    "# Perform FM-Index compression\n",
    "search = sorted(last_column)\n",
    "for i in range(1, len(substring)):\n",
    "    print(\"\\nPass #\", i)\n",
    "    search = sorted(search)\n",
    "    for j in range(len(last_column)):\n",
    "        search[j] = last_column[j] + search[j]\n",
    "        \n",
    "    for j in range(len(search)):\n",
    "        print(search[j])\n",
    "\n",
    "# FM-Index Count - get the number of occurences of the substring within the compressed text\n",
    "substring_count = search.count(substring)\n",
    "print(\"\\nNumber of substrings present:\", substring_count)\n",
    "\n",
    "# FM-Index Locate - locate the position(s) of the substring within the compressed text\n",
    "substring_index = []\n",
    "if(substring_count > 0):\n",
    "    substring_index = [i for i, j in enumerate(search) if j == substring]\n",
    "    print(\"Index/Indices where the substring is present:\", substring_index)"
   ]
  },
  {
   "cell_type": "code",
   "execution_count": null,
   "metadata": {
    "collapsed": true
   },
   "outputs": [],
   "source": []
  }
 ],
 "metadata": {
  "kernelspec": {
   "display_name": "Python 3",
   "language": "python",
   "name": "python3"
  },
  "language_info": {
   "codemirror_mode": {
    "name": "ipython",
    "version": 3
   },
   "file_extension": ".py",
   "mimetype": "text/x-python",
   "name": "python",
   "nbconvert_exporter": "python",
   "pygments_lexer": "ipython3",
   "version": "3.6.1"
  }
 },
 "nbformat": 4,
 "nbformat_minor": 2
}
